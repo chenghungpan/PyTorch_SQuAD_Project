{
 "cells": [
  {
   "cell_type": "markdown",
   "metadata": {},
   "source": [
    "### 1. Dependencies"
   ]
  },
  {
   "cell_type": "code",
   "execution_count": null,
   "metadata": {},
   "outputs": [],
   "source": [
    "#pip install torch torchvision transformers datasets"
   ]
  },
  {
   "cell_type": "markdown",
   "metadata": {},
   "source": [
    "### 2. Load SQuAD Dataset"
   ]
  },
  {
   "cell_type": "code",
   "execution_count": 24,
   "metadata": {},
   "outputs": [],
   "source": [
    "from datasets import load_dataset\n",
    "squad_dataset = load_dataset('squad')\n"
   ]
  },
  {
   "cell_type": "markdown",
   "metadata": {},
   "source": [
    "### 3. Preprocess Data, Training and Testing"
   ]
  },
  {
   "cell_type": "code",
   "execution_count": 25,
   "metadata": {},
   "outputs": [
    {
     "name": "stderr",
     "output_type": "stream",
     "text": [
      "Some weights of BertForQuestionAnswering were not initialized from the model checkpoint at bert-base-uncased and are newly initialized: ['qa_outputs.weight', 'qa_outputs.bias']\n",
      "You should probably TRAIN this model on a down-stream task to be able to use it for predictions and inference.\n",
      "/Users/owner/anaconda3/envs/venv38/lib/python3.8/site-packages/transformers/optimization.py:411: FutureWarning: This implementation of AdamW is deprecated and will be removed in a future version. Use the PyTorch implementation torch.optim.AdamW instead, or set `no_deprecation_warning=True` to disable this warning\n",
      "  warnings.warn(\n"
     ]
    },
    {
     "name": "stdout",
     "output_type": "stream",
     "text": [
      "Epoch 1/10 completed, Loss: 5.723166465759277\n",
      "Epoch 2/10 completed, Loss: 3.8834476470947266\n",
      "Epoch 3/10 completed, Loss: 3.456273078918457\n",
      "Epoch 4/10 completed, Loss: 2.472014904022217\n",
      "Epoch 5/10 completed, Loss: 2.075420618057251\n",
      "Epoch 6/10 completed, Loss: 1.832597255706787\n",
      "Epoch 7/10 completed, Loss: 1.460591435432434\n",
      "Epoch 8/10 completed, Loss: 1.535317301750183\n",
      "Epoch 9/10 completed, Loss: 1.1461172103881836\n",
      "Epoch 10/10 completed, Loss: 1.0559332370758057\n",
      "Training completed.\n"
     ]
    },
    {
     "data": {
      "image/png": "[encoded data removed]",
      "text/plain": [
       "<Figure size 640x480 with 1 Axes>"
      ]
     },
     "metadata": {},
     "output_type": "display_data"
    }
   ],
   "source": [
    "import matplotlib.pyplot as plt\n",
    "import json\n",
    "import torch\n",
    "from torch.utils.data import DataLoader, Dataset\n",
    "from transformers import BertTokenizer, BertForQuestionAnswering, AdamW\n",
    "\n",
    "# Function to Load Dataset\n",
    "def load_squad_dataset(file_path):\n",
    "    with open(file_path, 'r') as file:\n",
    "        squad_dict = json.load(file)\n",
    "    return squad_dict\n",
    "\n",
    "# Function to Tokenize and Prepare Dataset\n",
    "def tokenize_squad_data(squad_data, tokenizer):\n",
    "    inputs = []\n",
    "    targets_start = []\n",
    "    targets_end = []\n",
    "\n",
    "    for article in squad_data['data']:\n",
    "        for paragraph in article['paragraphs']:\n",
    "            context = paragraph['context']\n",
    "            for qa in paragraph['qas']:\n",
    "                question = qa['question']\n",
    "                answer = qa['answers'][0]\n",
    "                answer_text = answer['text']\n",
    "                start_char = answer['answer_start']\n",
    "                end_char = start_char + len(answer_text)\n",
    "\n",
    "                # Tokenize context and question\n",
    "                tokenized_input = tokenizer.encode_plus(question, context, max_length=384, truncation=True, padding='max_length', return_tensors='pt')\n",
    "                input_ids = tokenized_input['input_ids'].squeeze()\n",
    "\n",
    "                # Find positions of answer tokens\n",
    "                start_token = len(tokenizer.encode(question, add_special_tokens=False)) + 1\n",
    "                end_token = start_token + len(tokenizer.encode(answer_text, add_special_tokens=False))\n",
    "\n",
    "                inputs.append(input_ids)\n",
    "                targets_start.append(start_token)\n",
    "                targets_end.append(end_token)\n",
    "\n",
    "    return torch.stack(inputs), torch.tensor(targets_start), torch.tensor(targets_end)\n",
    "\n",
    "# Define Custom Dataset\n",
    "class SquadDataset(Dataset):\n",
    "    def __init__(self, encodings, start_positions, end_positions):\n",
    "        self.encodings = encodings\n",
    "        self.start_positions = start_positions\n",
    "        self.end_positions = end_positions\n",
    "\n",
    "    def __getitem__(self, idx):\n",
    "        return {\"input_ids\": self.encodings[idx], \n",
    "                \"start_positions\": self.start_positions[idx], \n",
    "                \"end_positions\": self.end_positions[idx]}\n",
    "\n",
    "    def __len__(self):\n",
    "        return len(self.encodings)\n",
    "\n",
    "# Load SQuAD Dataset\n",
    "squad_dataset = load_squad_dataset('sample_squad_data.json')\n",
    "\n",
    "# Initialize Tokenizer\n",
    "tokenizer = BertTokenizer.from_pretrained('bert-base-uncased')\n",
    "\n",
    "# Tokenize and Prepare Dataset\n",
    "inputs, start_positions, end_positions = tokenize_squad_data(squad_dataset, tokenizer)\n",
    "\n",
    "# Create Dataset and DataLoader\n",
    "dataset = SquadDataset(inputs, start_positions, end_positions)\n",
    "dataloader = DataLoader(dataset, batch_size=16, shuffle=True)\n",
    "\n",
    "# Initialize Model\n",
    "model = BertForQuestionAnswering.from_pretrained('bert-base-uncased')\n",
    "\n",
    "# Training\n",
    "device = torch.device('cuda' if torch.cuda.is_available() else 'cpu')\n",
    "model.to(device)\n",
    "\n",
    "optimizer = AdamW(model.parameters(), lr=5e-5)\n",
    "\n",
    "num_epochs = 10\n",
    "loss_values = []  # List to store loss values\n",
    "\n",
    "for epoch in range(num_epochs):\n",
    "    model.train()\n",
    "    total_loss = 0\n",
    "    for batch in dataloader:\n",
    "        optimizer.zero_grad()\n",
    "        input_ids = batch['input_ids'].to(device)\n",
    "        start_positions = batch['start_positions'].to(device)\n",
    "        end_positions = batch['end_positions'].to(device)\n",
    "        outputs = model(input_ids=input_ids, start_positions=start_positions, end_positions=end_positions)\n",
    "        loss = outputs.loss\n",
    "        loss.backward()\n",
    "        optimizer.step()\n",
    "\n",
    "        total_loss += loss.item()\n",
    "\n",
    "    # Calculate the average loss over the epoch and store it\n",
    "    avg_loss = total_loss / len(dataloader)\n",
    "    loss_values.append(avg_loss)\n",
    "    print(f'Epoch {epoch+1}/{num_epochs} completed, Loss: {avg_loss}')\n",
    "\n",
    "print(\"Training completed.\")\n",
    "\n",
    "# Plotting the training loss\n",
    "plt.plot(range(1, num_epochs+1), loss_values, 'b-o')\n",
    "plt.title('Training Loss')\n",
    "plt.xlabel('Epoch')\n",
    "plt.ylabel('Loss')\n",
    "plt.show()\n"
   ]
  },
  {
   "cell_type": "code",
   "execution_count": 26,
   "metadata": {},
   "outputs": [
    {
     "name": "stdout",
     "output_type": "stream",
     "text": [
      "Question: When was the Eiffel Tower completed?\n",
      "Answer: 1889.\n"
     ]
    }
   ],
   "source": [
    "# Example context and question\n",
    "context = \"The Eiffel Tower was constructed from 1887 to 1889.\"\n",
    "question = \"When was the Eiffel Tower completed?\"\n",
    "\n",
    "# Use pipeline to make a prediction\n",
    "answer = qa_pipeline(question=question, context=context)\n",
    "\n",
    "print(f\"Question: {question}\")\n",
    "print(f\"Answer: {answer['answer']}\")"
   ]
  }
 ],
 "metadata": {
  "kernelspec": {
   "display_name": "venv38",
   "language": "python",
   "name": "python3"
  },
  "language_info": {
   "codemirror_mode": {
    "name": "ipython",
    "version": 3
   },
   "file_extension": ".py",
   "mimetype": "text/x-python",
   "name": "python",
   "nbconvert_exporter": "python",
   "pygments_lexer": "ipython3",
   "version": "3.8.18"
  }
 },
 "nbformat": 4,
 "nbformat_minor": 2
}
